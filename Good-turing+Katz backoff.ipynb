{
 "cells": [
  {
   "cell_type": "markdown",
   "metadata": {},
   "source": [
    "# Good-turing+Katz backoff"
   ]
  },
  {
   "cell_type": "code",
   "execution_count": 2,
   "metadata": {
    "collapsed": true,
    "deletable": true,
    "editable": true
   },
   "outputs": [],
   "source": [
    "from math import log\n",
    "from n_gram import *\n",
    "import csv"
   ]
  },
  {
   "cell_type": "code",
   "execution_count": 3,
   "metadata": {
    "collapsed": false,
    "deletable": true,
    "editable": true
   },
   "outputs": [],
   "source": [
    "# construct positive model\n",
    "txt = \"pos_pre.txt\"\n",
    "with open('%s' % txt,'r') as file:\n",
    "     file_str = file.read()\n",
    "file_str = file_str.replace('\\n',' ')\n",
    "\n",
    "length_pos,uni_word_pos,uni_cnt_pos,uni_prob_pos, \\\n",
    "bi_word_pos,bi_cnt_pos,bi_prob_pos,tri_word,tri_cnt_pos,tri_prob= gram(file_str)\n",
    "\n",
    "# construct negative model\n",
    "txt = \"neg_pre.txt\"\n",
    "with open('%s' % txt,'r') as file:\n",
    "     file_str = file.read()\n",
    "file_str = file_str.replace('\\n',' ')\n",
    "\n",
    "length_neg,uni_word_neg,uni_cnt_neg,uni_prob_neg, \\\n",
    "bi_word_neg,bi_cnt_neg,bi_prob_neg,tri_word,tri_cnt_neg,tri_prob= gram(file_str)"
   ]
  },
  {
   "cell_type": "code",
   "execution_count": 4,
   "metadata": {
    "collapsed": false,
    "deletable": true,
    "editable": true
   },
   "outputs": [],
   "source": [
    "\"\"\"\n",
    "Funtion to calculate good_turing counts\n",
    "\"\"\"\n",
    "def Good_turing (k,uni_cnt,bi_cnt):\n",
    "    \n",
    "    # Good_turing for uni_word_cnt\n",
    "    Nc_uni = {}\n",
    "    for (key,value) in uni_cnt.items():\n",
    "        if value in Nc_uni:\n",
    "            Nc_uni[value]+=1\n",
    "        else:\n",
    "            Nc_uni[value]=1\n",
    "    \n",
    "    uni_cnt_good = {}\n",
    "    uni_cnt_good['<UNK>']=float(Nc_uni[1])\n",
    "\n",
    "    for (key,value) in uni_cnt.items():\n",
    "        if value>k:\n",
    "            uni_cnt_good[key]=value\n",
    "        else:\n",
    "            c = float(value)\n",
    "            Nc = float(Nc_uni[c])\n",
    "            N1 = float(Nc_uni[1])\n",
    "            Nc1 = float(Nc_uni[c+1])\n",
    "            Nk1 = float(Nc_uni[k+1])\n",
    "            uni_cnt_good[key]=((c+1)*Nc1/Nc-c*(k+1)*Nk1/N1)/(1-(k+1)*Nk1/N1)\n",
    "    \n",
    "    # Good_turing for bi_word_cnt\n",
    "    Nc_bi = {}\n",
    "    for (key,value) in bi_cnt.items():\n",
    "        if value in Nc_bi:\n",
    "            Nc_bi[value]+=1\n",
    "        else:\n",
    "            Nc_bi[value]=1\n",
    "    bi_cnt_good = {}\n",
    "    for (key,value) in bi_cnt.items():\n",
    "        if value>k:\n",
    "            bi_cnt_good[key]=float(value)\n",
    "        else:\n",
    "            c = float(value)\n",
    "            Nc = float(Nc_bi[c])\n",
    "            N1 = float(Nc_bi[1])\n",
    "            Nc1 = float(Nc_bi[c+1])\n",
    "            Nk1 = float(Nc_bi[k+1])\n",
    "            bi_cnt_good[key]=((c+1)*Nc1/Nc-c*(k+1)*Nk1/N1)/(1-(k+1)*Nk1/N1)\n",
    "    return uni_cnt_good,bi_cnt_good\n",
    " "
   ]
  },
  {
   "cell_type": "code",
   "execution_count": 5,
   "metadata": {
    "collapsed": false,
    "deletable": true,
    "editable": true
   },
   "outputs": [],
   "source": [
    "\"\"\"\n",
    "Function to calculate backoff probability\n",
    "\"\"\"\n",
    "def calc_backoff(pre_word,word,length,uni_cnt,uni_cnt_good,bi_cnt,bi_cnt_good):\n",
    "    tuple = (pre_word,word)\n",
    "    if pre_word not in uni_cnt.keys():\n",
    "        pre_word = '<UNK>'\n",
    "    \n",
    "    if tuple in bi_cnt:\n",
    "        return log(float(bi_cnt_good[tuple])/uni_cnt_good[pre_word])\n",
    "    else:\n",
    "        total_bi_prob = 0.0\n",
    "        for (key,value) in bi_cnt.items():\n",
    "            if key[0] == pre_word:              \n",
    "                total_bi_prob += float(bi_cnt_good[key])/uni_cnt[key[0]]\n",
    "        alpha = 1-total_bi_prob\n",
    "        if alpha == 0: return -float(\"inf\")\n",
    "        else: return log(alpha*float(uni_cnt_good[pre_word])/length)\n",
    "\n",
    "\n",
    "        "
   ]
  }
 ],
 "metadata": {
  "kernelspec": {
   "display_name": "Python 2",
   "language": "python",
   "name": "python2"
  },
  "language_info": {
   "codemirror_mode": {
    "name": "ipython",
    "version": 2
   },
   "file_extension": ".py",
   "mimetype": "text/x-python",
   "name": "python",
   "nbconvert_exporter": "python",
   "pygments_lexer": "ipython2",
   "version": "2.7.13"
  }
 },
 "nbformat": 4,
 "nbformat_minor": 2
}
